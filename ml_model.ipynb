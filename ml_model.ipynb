{
 "cells": [
  {
   "cell_type": "code",
   "execution_count": 1,
   "id": "4a5fd35d",
   "metadata": {},
   "outputs": [
    {
     "name": "stdout",
     "output_type": "stream",
     "text": [
      "LogisticRegression CV Accuracy: 1.0000 (+/- 0.0000)\n",
      "RandomForest CV Accuracy: 0.9867 (+/- 0.0267)\n",
      "SVM CV Accuracy: 1.0000 (+/- 0.0000)\n",
      "DecisionTree CV Accuracy: 0.9800 (+/- 0.0400)\n",
      "KNeighbors CV Accuracy: 0.9800 (+/- 0.0267)\n",
      "Best classifier: LogisticRegression with accuracy 1.0000\n",
      "Best model saved as best_model.pkl\n"
     ]
    }
   ],
   "source": [
    "import pandas as pd\n",
    "from sklearn.model_selection import cross_val_score\n",
    "from sklearn.ensemble import RandomForestClassifier\n",
    "from sklearn.linear_model import LogisticRegression\n",
    "from sklearn.svm import SVC\n",
    "from sklearn.tree import DecisionTreeClassifier\n",
    "from sklearn.neighbors import KNeighborsClassifier\n",
    "from sklearn.preprocessing import StandardScaler\n",
    "from sklearn.pipeline import make_pipeline\n",
    "import pickle\n",
    "\n",
    "# Assume df is your DataFrame loaded already\n",
    "df = pd.read_csv('file.csv')\n",
    "\n",
    "# Drop columns that are not features (like names or IDs)\n",
    "X = df.drop(columns=['status', 'nama', 'nomor', 'nik'])\n",
    "y = df['status']\n",
    "\n",
    "# Classifiers to test\n",
    "classifiers = {\n",
    "    \"LogisticRegression\": make_pipeline(StandardScaler(), LogisticRegression(max_iter=1000)),\n",
    "    \"RandomForest\": RandomForestClassifier(random_state=42),\n",
    "    \"SVM\": make_pipeline(StandardScaler(), SVC()),\n",
    "    \"DecisionTree\": DecisionTreeClassifier(random_state=42),\n",
    "    \"KNeighbors\": make_pipeline(StandardScaler(), KNeighborsClassifier()),\n",
    "}\n",
    "\n",
    "# Evaluate each with 5-fold CV\n",
    "results = {}\n",
    "for name, clf in classifiers.items():\n",
    "    scores = cross_val_score(clf, X, y, cv=5, scoring='accuracy')\n",
    "    results[name] = scores.mean()\n",
    "    print(f\"{name} CV Accuracy: {scores.mean():.4f} (+/- {scores.std():.4f})\")\n",
    "\n",
    "# Select best classifier\n",
    "best_clf_name = max(results, key=results.get)\n",
    "print(f\"Best classifier: {best_clf_name} with accuracy {results[best_clf_name]:.4f}\")\n",
    "\n",
    "# Train best model on full data\n",
    "best_clf = classifiers[best_clf_name]\n",
    "best_clf.fit(X, y)\n",
    "\n",
    "# Save model to disk\n",
    "with open('best_model.pkl', 'wb') as f:\n",
    "    pickle.dump(best_clf, f)\n",
    "\n",
    "print(\"Best model saved as best_model.pkl\")\n"
   ]
  },
  {
   "cell_type": "code",
   "execution_count": null,
   "id": "5edaf965",
   "metadata": {},
   "outputs": [],
   "source": []
  }
 ],
 "metadata": {
  "kernelspec": {
   "display_name": ".venv",
   "language": "python",
   "name": "python3"
  },
  "language_info": {
   "codemirror_mode": {
    "name": "ipython",
    "version": 3
   },
   "file_extension": ".py",
   "mimetype": "text/x-python",
   "name": "python",
   "nbconvert_exporter": "python",
   "pygments_lexer": "ipython3",
   "version": "3.11.9"
  }
 },
 "nbformat": 4,
 "nbformat_minor": 5
}
